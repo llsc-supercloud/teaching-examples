{
 "cells": [
  {
   "cell_type": "markdown",
   "metadata": {},
   "source": [
    "## Introduction to Parameter Sweep Applications"
   ]
  },
  {
   "cell_type": "markdown",
   "metadata": {},
   "source": [
    "\n",
    "(Reference: *Writing Parallel Parameter Sweep Applications with pMatlab*, Hahn Kim, Albert Reuther and Jeremy Kepner, MIT Lincoln Laboratory, Lexinton, MA 02144\n",
    "https://www.mit.edu/~kepner/pMatlab/pMatlabv2_param_sweep.pdf)\n",
    "\n",
    "Parameter sweep applications are a class of application in which the same code is run multiple\n",
    "times using unique sets of input parameter values. This includes varying one parameter over a\n",
    "range of values or varying multiple parameters over a large multidimensional space. Examples\n",
    "of parameter sweep applications are Monte Carlo simulations or parameter space searches.\n",
    "In parameter sweep applications, each individual run is independent of all other runs. This\n",
    "property is important for parallelizing parameter sweep applications because it means we can\n",
    "formulate this type of problem in a leader-worker paradigm.  Each job is independent, it does not matter if the 415th job\n",
    "completes after the 420th job completes. It is only important that each job completes and its\n",
    "results are recorded. This type of application, in which individual processors do not\n",
    "communicate with each other during processing, is known as pleasantly parallel or loosely coupled. \n",
    "\n",
    "\n",
    "A typical parameter sweep application consists of a for loop which repeatedly executes the same\n",
    "code, usually in a function. A unique set of arguments is supplied to the function in each\n",
    "iteration. Since the loop iterator has a unique value for each iteration, it can be used to compute\n",
    "the set of arguments. A more advanced parameter sweep application may nest multiple for loops\n",
    "and use multiple iterators to compute the input arguments. \n"
   ]
  },
  {
   "cell_type": "markdown",
   "metadata": {},
   "source": [
    "## Serial Octave Implementation"
   ]
  },
  {
   "cell_type": "markdown",
   "metadata": {},
   "source": [
    "Let's look at a serial implementation of a parameter sweep workflow. In this Octave example, we use a function, sample_function.m, to fill a 2-D matrix that is M rows by N columns.  \n",
    "\n",
    "Our 1st step is to add the path to the sample_function to our MATLAB path. The path below should point to the location of sample_function.m one directory up."
   ]
  },
  {
   "cell_type": "code",
   "execution_count": 1,
   "metadata": {},
   "outputs": [],
   "source": [
    "% basic parameter sweep code (serial)\n",
    "\n",
    "addpath('../')\n"
   ]
  },
  {
   "cell_type": "markdown",
   "metadata": {},
   "source": [
    "Next, we set the data sizes\n",
    "* m = 3\n",
    "* n = 16\n",
    "\n",
    "and preallocate z, the matrix that will hold the results.  The pre-allocation is an optimization step. Note that we do not explictly provide the numeric values when we create z, but instead use the size variables defined above.\n",
    "\n",
    "\n",
    "Finally, once all of the rows of the matrix has been filled we display the result.\n"
   ]
  },
  {
   "cell_type": "code",
   "execution_count": 2,
   "metadata": {},
   "outputs": [],
   "source": [
    "% Set data sizes.\n",
    "m = 3; % number of output arguments\n",
    "n = 16; % number of independent iterations\n",
    "\n",
    "% Create z, data output matrix.\n",
    "z = zeros(n, m);"
   ]
  },
  {
   "cell_type": "markdown",
   "metadata": {},
   "source": [
    "Now we have defined the number of rows, number of columns and the results matrix.  We are ready to start our calculations.  \n",
    "\n",
    "In this example we want each row of the results matrix to hold\n",
    "* the row number in column 1\n",
    "* the number zero in column 2\n",
    "* a value equal to 2.5 \\* row number in column 3"
   ]
  },
  {
   "cell_type": "code",
   "execution_count": 3,
   "metadata": {},
   "outputs": [],
   "source": [
    "\n",
    "% Loop over the local indices\n",
    "for ii = 1:size(z, 1)\n",
    "   % Calculate another argument based on the loop index (row number)\n",
    "   my_other_arg = 2.5 * ii;\n",
    "\n",
    "   % call a function with the index and other arguments, and \n",
    "   % store the result in a row\n",
    "   z(ii, :) = sample_function(ii, 0, my_other_arg);\n",
    "end % for ii\n",
    "\n"
   ]
  },
  {
   "cell_type": "markdown",
   "metadata": {},
   "source": [
    "Finally, once all of the values have been computed and stored in the matrix, we display the result."
   ]
  },
  {
   "cell_type": "code",
   "execution_count": 4,
   "metadata": {
    "scrolled": true
   },
   "outputs": [
    {
     "name": "stdout",
     "output_type": "stream",
     "text": [
      "SUCCESS\n",
      "    1.00000    0.00000    2.50000\n",
      "    2.00000    0.00000    5.00000\n",
      "    3.00000    0.00000    7.50000\n",
      "    4.00000    0.00000   10.00000\n",
      "    5.00000    0.00000   12.50000\n",
      "    6.00000    0.00000   15.00000\n",
      "    7.00000    0.00000   17.50000\n",
      "    8.00000    0.00000   20.00000\n",
      "    9.00000    0.00000   22.50000\n",
      "   10.00000    0.00000   25.00000\n",
      "   11.00000    0.00000   27.50000\n",
      "   12.00000    0.00000   30.00000\n",
      "   13.00000    0.00000   32.50000\n",
      "   14.00000    0.00000   35.00000\n",
      "   15.00000    0.00000   37.50000\n",
      "   16.00000    0.00000   40.00000\n"
     ]
    }
   ],
   "source": [
    "% Finalize the program\n",
    "disp('SUCCESS');\n",
    "\n",
    "% Finally, display the resulting matrix on the leader\n",
    "disp(z);"
   ]
  },
  {
   "cell_type": "markdown",
   "metadata": {},
   "source": [
    "Once the results are complete, save your data to a file.  To save it to a mat file, we use the save command."
   ]
  },
  {
   "cell_type": "code",
   "execution_count": 5,
   "metadata": {},
   "outputs": [],
   "source": [
    "save('Matrix_result.mat','z')"
   ]
  },
  {
   "cell_type": "markdown",
   "metadata": {},
   "source": [
    "To save the data to a text file for use in another Octave script or even a script in another language, we recommend csvwrite.  For this data the command is "
   ]
  },
  {
   "cell_type": "code",
   "execution_count": 6,
   "metadata": {},
   "outputs": [],
   "source": [
    "csvwrite('paramSweepMat.txt',z)"
   ]
  },
  {
   "cell_type": "code",
   "execution_count": null,
   "metadata": {},
   "outputs": [],
   "source": []
  }
 ],
 "metadata": {
  "kernelspec": {
   "display_name": "Octave",
   "language": "octave",
   "name": "octave"
  },
  "language_info": {
   "file_extension": ".m",
   "help_links": [
    {
     "text": "GNU Octave",
     "url": "https://www.gnu.org/software/octave/support.html"
    },
    {
     "text": "Octave Kernel",
     "url": "https://github.com/Calysto/octave_kernel"
    },
    {
     "text": "MetaKernel Magics",
     "url": "https://github.com/calysto/metakernel/blob/master/metakernel/magics/README.md"
    }
   ],
   "mimetype": "text/x-octave",
   "name": "octave",
   "version": "5.1.0"
  },
  "latex_envs": {
   "LaTeX_envs_menu_present": true,
   "autoclose": false,
   "autocomplete": true,
   "bibliofile": "biblio.bib",
   "cite_by": "apalike",
   "current_citInitial": 1,
   "eqLabelWithNumbers": true,
   "eqNumInitial": 1,
   "hotkeys": {
    "equation": "Ctrl-E",
    "itemize": "Ctrl-I"
   },
   "labels_anchors": false,
   "latex_user_defs": false,
   "report_style_numbering": false,
   "user_envs_cfg": false
  },
  "toc": {
   "base_numbering": 1,
   "nav_menu": {},
   "number_sections": true,
   "sideBar": true,
   "skip_h1_title": false,
   "title_cell": "Table of Contents",
   "title_sidebar": "Contents",
   "toc_cell": false,
   "toc_position": {},
   "toc_section_display": true,
   "toc_window_display": false
  },
  "varInspector": {
   "cols": {
    "lenName": 16,
    "lenType": 16,
    "lenVar": 40
   },
   "kernels_config": {
    "python": {
     "delete_cmd_postfix": "",
     "delete_cmd_prefix": "del ",
     "library": "var_list.py",
     "varRefreshCmd": "print(var_dic_list())"
    },
    "r": {
     "delete_cmd_postfix": ") ",
     "delete_cmd_prefix": "rm(",
     "library": "var_list.r",
     "varRefreshCmd": "cat(var_dic_list()) "
    }
   },
   "types_to_exclude": [
    "module",
    "function",
    "builtin_function_or_method",
    "instance",
    "_Feature"
   ],
   "window_display": false
  }
 },
 "nbformat": 4,
 "nbformat_minor": 2
}
