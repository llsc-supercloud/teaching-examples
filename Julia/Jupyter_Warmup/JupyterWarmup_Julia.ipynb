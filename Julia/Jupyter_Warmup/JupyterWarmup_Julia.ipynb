{
 "cells": [
  {
   "cell_type": "markdown",
   "metadata": {},
   "source": [
    "# Introduction"
   ]
  },
  {
   "cell_type": "markdown",
   "metadata": {},
   "source": [
    "Welcome to a Jupyter Notebook!\n",
    "\n",
    "Jupyter notebooks contain a series of cells of different types. The most common cells are Code cells and Markdown cells. You can press the \"+\" button above to create a new cell. By default new cells are code cells. The dropdown list above allows you to change the type of cell you have selected."
   ]
  },
  {
   "cell_type": "markdown",
   "metadata": {},
   "source": [
    "In this notebook you will get an introduction to how to use Jupyter notebooks. You will:\n",
    "\n",
    "* Create markdown cells for taking notes or adding detailed comments\n",
    "* Create and run code cells\n",
    "    * Import libraries/toolboxes\n",
    "    * Load and save numeric and text data\n",
    "* Complete and run exmaples\n",
    "    * Numerical computing (matrix-multiply)\n",
    "    * Text processing\n",
    "    * Loading and plotting results\n",
    "* Export a Jupyter Notebook as a script\n",
    "* Use the Jupyter Text Editor to edit your script\n",
    "* Use the Jupyter Terminal to run your script at the command line\n",
    "\n",
    "**Any instructions for you to do something in this Warmup will be in bold**.\n",
    "\n",
    "For a basic tutorial in how to use Jupyter Notebooks, see:\n",
    "* https://jupyter-notebook.readthedocs.io/en/stable/examples/Notebook/Notebook%20Basics.html\n",
    "* https://www.dataquest.io/blog/jupyter-notebook-tutorial/"
   ]
  },
  {
   "cell_type": "markdown",
   "metadata": {},
   "source": [
    "Before we start, it is important to know how to shut down your Jupyter Notebook session. Jupyter notebooks run using specifically allocated compute resources on the MIT SuperCloud system. This means no one else can use those resources while your Jupyter session is running. For this reason, it is very important to fully shut down your Jupyter Notebooks when you are done using them. This will relinquish the resources they are running on and allow others to make use of them.\n",
    "\n",
    "To shut down your notebook, click on the \"Shutdown\" button in the top right corner of any Jupyter Notebook page. You can also click the \"Shutdown\" button on the [Jupyter launching page](https://txe1-portal.mit.edu/jupyter/jupyter_notebook.php). Do not do this until you have saved your work or any important results, it will shut down *all* of your running notebooks."
   ]
  },
  {
   "cell_type": "markdown",
   "metadata": {},
   "source": [
    "## When to use Jupyter Notebooks"
   ]
  },
  {
   "cell_type": "markdown",
   "metadata": {},
   "source": [
    "Jupyter notebooks can be very useful for certain tasks. They are great for developing code, doing interactive analysis, or creating demonstrations (such as this notebook).\n",
    "\n",
    "If you find you are going through the notebook running all cells without editing, or your notebook takes so long to run that you are taking frequent coffee breaks, it may make more sense to convert your notebook into a runable script that you can run from the command line. Once you have a runable script, you can submit that script as a job on the system, and it can run without your input. As long as you are saving your results, you can collect those results in the same directory that you run the notebook in.\n",
    "\n",
    "We will go over how to save data and variables, write results to files, and export notebooks as runable scripts."
   ]
  },
  {
   "cell_type": "markdown",
   "metadata": {},
   "source": [
    "# Intro to Markdown"
   ]
  },
  {
   "cell_type": "markdown",
   "metadata": {},
   "source": [
    "This is a Markdown cell. It can be used to write instructions or notes. You can also do fancy formatting. Check out this [cheatsheet](https://github.com/adam-p/markdown-here/wiki/Markdown-Here-Cheatsheet) for examples."
   ]
  },
  {
   "cell_type": "markdown",
   "metadata": {},
   "source": [
    "Markdown cells can be in either edit or display mode. Double click on a markdown cell to enter edit mode, and press SHIFT+ENTER to display. Try it now!"
   ]
  },
  {
   "cell_type": "markdown",
   "metadata": {},
   "source": [
    "# Working with Code Cells"
   ]
  },
  {
   "cell_type": "markdown",
   "metadata": {},
   "source": [
    "The most important function of the Jupyter Notebook is the ability to write and execute code cells.\n",
    "\n",
    "This first cell prints \"Hello!\". You can run it by selecting the cell and pressing SHIFT+ENTER. Try editing the print statment however you'd like and running it again."
   ]
  },
  {
   "cell_type": "code",
   "execution_count": null,
   "metadata": {},
   "outputs": [],
   "source": [
    "print(\"Hello!\")"
   ]
  },
  {
   "cell_type": "markdown",
   "metadata": {},
   "source": [
    "If you ever get stuck in Julia and need help you can consult the [Julia documentation](https://docs.julialang.org/en/v1/). If you know the name of the function that you need help with, or have a good guess of what it is, you can type ? followed by the name of the function. Run the following cell to see the documentation for the print function.\n",
    "\n",
    "**Once you've seen the description for `print`, check out `println`.  What is the difference between the two functions?**"
   ]
  },
  {
   "cell_type": "code",
   "execution_count": null,
   "metadata": {},
   "outputs": [],
   "source": [
    "? print"
   ]
  },
  {
   "cell_type": "markdown",
   "metadata": {},
   "source": [
    "## Matrix Multiply\n"
   ]
  },
  {
   "cell_type": "markdown",
   "metadata": {},
   "source": [
    "You can create a matrix in Julia in a number of ways. To create a matrix with specific values, you can use brackets:\n",
    "\n",
    "```julia\n",
    "a = [2 3; 4 5]\n",
    "```\n",
    "\n",
    "This creates a 2x2 matrix \"a\" whose first row is 2,3 and second row is 4,5.\n",
    "\n",
    "You can read [this page](https://docs.julialang.org/en/v1/manual/arrays/#Construction-and-Initialization-1) to see more ways to contruct multi-dimensional arrays."
   ]
  },
  {
   "cell_type": "markdown",
   "metadata": {},
   "source": [
    "**Create two matrics, \"a\" and \"b\", below (uncomment by removing the # and fill out the line). Make sure their inner dimensions match so you can multiply them (you can get the size of an array by using the \"size\" function).**"
   ]
  },
  {
   "cell_type": "code",
   "execution_count": null,
   "metadata": {},
   "outputs": [],
   "source": [
    "#a = \n",
    "#b = \n",
    "\n",
    "println(size(a))\n",
    "println(size(b))"
   ]
  },
  {
   "cell_type": "markdown",
   "metadata": {},
   "source": [
    "Next we are going to multiply these matrices and time it. A good tool for getting good timing data is the package BenchmarkTools. The commands in this package will run what it is timing multiple times and save statistics about the timing data, including the minimum, maximum, and average times.\n",
    "\n",
    "To load a package in Julia, use the \"using\" command."
   ]
  },
  {
   "cell_type": "code",
   "execution_count": null,
   "metadata": {},
   "outputs": [],
   "source": [
    "using BenchmarkTools"
   ]
  },
  {
   "cell_type": "markdown",
   "metadata": {},
   "source": [
    "BenchmarkTools is a good example of a set of Julia macros. Macros in Julia start with the @ symbol and are placed at the beginning of the line. The `@benchmark` and `@btime` macros are useful.\n",
    "\n",
    "**Multiply the matrices you made above, save the result as \"c\", and time using the `@benchmark` macro. You can multiply matrices using the `*` operator.**"
   ]
  },
  {
   "cell_type": "code",
   "execution_count": null,
   "metadata": {},
   "outputs": [],
   "source": [
    "# Your code here\n"
   ]
  },
  {
   "cell_type": "markdown",
   "metadata": {},
   "source": [
    "## Saving Data and Variables"
   ]
  },
  {
   "cell_type": "markdown",
   "metadata": {},
   "source": [
    "Anytime you produce an important result you should save your data and load it to be sure it saved properly. You should not assume that your connection to the notebook will stay live and the kernel will run indefinitely if you leave it running on your computer and walk away.\n",
    "\n",
    "There are a number of packages that you can use to save data in Julia.  JLD and JLD2 work for saving generic Julia objects. When you load your data, it will be in a dictionary with the variable names as keys. The MAT package can save to and load from .mat files, which is good if you are collaborating with Matlab programmers. The most universal would be to save to a text file.\n",
    "\n",
    "Since the JLD and MAT packages are not included in as standard Julia packages, you would have to add them before you use them. Adding new packages is outside the scope of this tutorial, and must be done on the login node. For now we will save our data using writedlm to save as a csv file. Syntax for the other packages are provided as an example."
   ]
  },
  {
   "cell_type": "code",
   "execution_count": null,
   "metadata": {},
   "outputs": [],
   "source": [
    "using DelimitedFiles, JLD, MAT\n",
    "\n",
    "# Create a directory to save results\n",
    "if !isdir(\"results\")\n",
    "    mkdir(\"results\")\n",
    "end\n",
    "\n",
    "# Save using JLD\n",
    "save(\"results/myresults.jld\", \"c\", c)\n",
    "\n",
    "# Save using MAT\n",
    "file = matopen(\"results/myresults1.mat\", \"w\")\n",
    "write(file, \"c\", c)\n",
    "close(file)\n",
    "\n",
    "# or\n",
    "matwrite(\"results/myresults2.mat\", Dict(\"c\" => c))\n",
    "\n",
    "# Save to a text file\n",
    "writedlm(\"results/myresults.csv\",c,',')"
   ]
  },
  {
   "cell_type": "markdown",
   "metadata": {},
   "source": [
    "## Read in a Text File"
   ]
  },
  {
   "cell_type": "markdown",
   "metadata": {},
   "source": [
    "Data can be read in various ways depending on the file type and format. For a regular text file, you can read in the entire file as a single string using the `read` function. If you are going to process the file line by line, you may want to use `readlines`, which will read the file into an array where each element in the array is a line of the file."
   ]
  },
  {
   "cell_type": "code",
   "execution_count": null,
   "metadata": {},
   "outputs": [],
   "source": [
    "fname = \"data/35.txt.utf-8\"\n",
    "\n",
    "book = read(fname, String)\n",
    "booklines = readlines(fname)\n",
    "\n",
    "println(book[590:1000])\n",
    "\n",
    "print(booklines[32:50])"
   ]
  },
  {
   "cell_type": "markdown",
   "metadata": {},
   "source": [
    "Delimited files, such as csv (comma separated values) or tsv (tab separated values), can be read in using `readdlm` from the `DelimitedFiles` package. This will put the data in an array."
   ]
  },
  {
   "cell_type": "code",
   "execution_count": null,
   "metadata": {},
   "outputs": [],
   "source": [
    "using DelimitedFiles\n",
    "\n",
    "fname = \"data/entity.csv\"\n",
    "\n",
    "data = readdlm(fname,',')"
   ]
  },
  {
   "cell_type": "markdown",
   "metadata": {},
   "source": [
    "## Plotting Data"
   ]
  },
  {
   "cell_type": "markdown",
   "metadata": {},
   "source": [
    "One of the most popular plotting pacakges in Julia is `Plots`. The `Plots` package contains a single interface to a variety of plotting packages."
   ]
  },
  {
   "cell_type": "code",
   "execution_count": null,
   "metadata": {},
   "outputs": [],
   "source": [
    "using Plots\n",
    "\n",
    "results_file = \"data/results.csv\"\n",
    "\n",
    "results = readdlm(results_file)\n",
    "\n",
    "scatter(results[:,1],results[:,2])"
   ]
  },
  {
   "cell_type": "markdown",
   "metadata": {},
   "source": [
    "# Exporting your Notebook as a Script"
   ]
  },
  {
   "cell_type": "markdown",
   "metadata": {},
   "source": [
    "Jupyter notebooks are excellent for code development and creating interactive demonstrations. There comes a time when it is more convenient or necessary to run your code as a script. Rather than copying and pasting your code into a file, you can export your notebook as a script.\n",
    "\n",
    "To export the script to download to your computer, you can click File -> Download As -> Julia (.jl).\n",
    "\n",
    "Most of the time you'll want the script on supercloud. To do that, you can use the command `jupyter nbconvert --to script [NOTEBOOK_NAME].ipynb` at the command line. You can run a shell command in a Julia Jupyter notebook by putting `;` at the front of the line, as you can see below.\n",
    "\n",
    "Note that when you export a notebook as a script, comments in code blocks will be preserved, but text in Markdown blocks will not."
   ]
  },
  {
   "cell_type": "markdown",
   "metadata": {},
   "source": [
    "**Run the following code block to export this notebook as a script.**"
   ]
  },
  {
   "cell_type": "code",
   "execution_count": null,
   "metadata": {},
   "outputs": [],
   "source": [
    "; jupyter nbconvert --to script JupyterWarmup_Generic.ipynb"
   ]
  },
  {
   "cell_type": "markdown",
   "metadata": {},
   "source": [
    "# Text Editor"
   ]
  },
  {
   "cell_type": "markdown",
   "metadata": {},
   "source": [
    "Jupyter includes a text editor that can be used to edit code and text files. You can open existing text files or create new ones.\n",
    "1. Go to the file browser tab.\n",
    "2. From here you can either create a new text file or open an existing one.\n",
    "    1. To open a new text file, click on the \"New\" button in the top right corner and select \"Text File\".\n",
    "    2. To open an existing text file, check the box next to the file that you would like to open (make sure no other boxes are checked). Then click \"Edit\" at the top of the page. You can also just click on the name of the file (although if Jupyter does not identify it as a text file it may download the file rather than open it in the editor).\n",
    "3. Edit the file as needed. Save frequently by clicking File->Save or by pressing CMD+S or CONTROL+S on your keyboard.\n",
    "4. The text editor will do syntax highlighting. It will auto-detect the language based on the file extension, and the language will be displayed in the top right corner. If the correct language is not detected, you can click \"Language\" at the top and select the right language. Note that Matlab is not included, but Octave is."
   ]
  },
  {
   "cell_type": "markdown",
   "metadata": {},
   "source": [
    "**Open the script you exported from this notebook. Remove the \"; jupyter nbconvert ...\" line and make any other edits you'd like to.**"
   ]
  },
  {
   "cell_type": "markdown",
   "metadata": {},
   "source": [
    "# Terminal Windows"
   ]
  },
  {
   "cell_type": "markdown",
   "metadata": {},
   "source": [
    "While Jupyter notebooks provide an easy to use environment for prototyping and development, there are times when performance requirements encourage the use of the Linux command line. Fortunately, Jupyter notebooks provide a browser based interface to the command line.\n",
    "\n",
    "1. Go to the file browser tab.\n",
    "2. On the right hand side, above the file list, look for the pull down tab that says \"New\".\n",
    "3. Click on \"New\" and scroll to the bottom to click on \"Terminal\".\n",
    "4. If your terminal opens and the first line starts with something like `sh-4.4$`, type 'bash' at the command prompt and hit enter.\n",
    "5. You should see a new prompt that includes `{yourUserID}@`.\n",
    "6. You might want to pull this tab out so that it is in a different window so that you can see this notebook and the terminal side by side.\n",
    "\n",
    "<img src=\"images/terminal.png\" alt=\"Terminal Image\" style=\"height: 500px;\"/>\n",
    "\n",
    "If you are not familiar with the Linux command line we suggest you familiarize yourself with some of the basic Linux commands in the tab below. Feel free to try them out in a terminal window as you are familiarizing yourself."
   ]
  },
  {
   "cell_type": "markdown",
   "metadata": {},
   "source": [
    "**Navigate to the directory containing this notebook (you can get the path from the the file browser tab on the bar just above the list of files). Run the script you exported by excuting `julia JupyterWarmup_Julia.jl` at the command line. If you run into any errors, edit your script in the text editor tab and try to run the script again. Remember to save your script before re-running!**\n",
    "\n",
    "If you have any trouble navigating to the directory containing this notebook, check out the Basic Linux Commands tab below."
   ]
  },
  {
   "cell_type": "markdown",
   "metadata": {},
   "source": [
    "## Basic Linux Commands"
   ]
  },
  {
   "cell_type": "markdown",
   "metadata": {},
   "source": [
    "Most Linux commands deal with *directories* and *files*. A *directory*, synonymous to a folder, contains files and other directories. The list of directories that lead to a particular directory or file is called its *path*. In Linux, directories on a path are separated by forward slashes '/'.\n",
    "\n",
    "Anytime after you start typing a Linux command you can press the \"Tab\" button your your keyboard. This called tab-complete, and will try to autocomplete what you are typing. This is particularly helpful when typing out long directory paths and file names. Pressing \"Tab\" once will complete if there is a single completion, pressing it twice will list all potential completions. It is a bit difficult to explain in text, but you can try it out yourself and watch the short demnstration [here](https://en.wikipedia.org/wiki/Command-line_completion).\n",
    "\n",
    "Finally, below is a list of Linux Commands. Try them out for yourself in a Command Line Terminal tab.\n",
    "\n",
    "* Creating, navigating and viewing directories:\n",
    "    * `pwd`: tells you the full path of the directory you are currently in\n",
    "    * `mkdir dirname`: creates a directory with the name \"dirname\"\n",
    "    * `cd dirname`: change directory to directory \"dirname\"\n",
    "    * `cd ../`: takes you up one level\n",
    "    * `ls`: lists the files in the directory\n",
    "        * `ls -a`: lists all files including hidden files\n",
    "        * `ls -l`: lists files in \"long format\" including ownership and date of last update\n",
    "        * `ls -t`: lists files by date stamp, most recently updated file first\n",
    "        * `ls -tr`: lists files by dates stamp in reverse order, most recently updated file is listed last (this is useful if you have a lot of files, you want to know which file you changed last and the list of files results in a scrolling window)\n",
    "        * `ls dirname`: lists the files in the directory \"dirname\"\n",
    "* Viewing files\n",
    "    * `more filename`: shows the first part of a file, hitting the space bar allows you to scroll through the rest of the file, q will cause you to exit out of the file\n",
    "    * `less filename`: allows you to scroll through the file, forward and backward, using the arrow keys\n",
    "    * `tail filename`: shows the last 10 lines of a file (useful when you are monitoring a logfile or output file to see that the values are correct)\n",
    "        * `tail -<number\\> filename`: show you the last &lt;number> lines of a file.\n",
    "        * `tail -f filename`: shows you new lines as they are written to the end of a file. Press CMD+C or Control+C to exit.\n",
    "* Copying, moving, renaming, and deleting files\n",
    "    * `mv filename dirname`: moves filename to directory dirname.\n",
    "        * `mv filename1 filename2`: moves filename1 to filename2, in essence renames the file. The date and time are not changed by the mv command.\n",
    "    * cp filename dirname: copies to directory dirname.\n",
    "        * `cp filename1 filename2`: copies filename1 to filename2. The date stamp on filename2 will be the date/time that the file was moved\n",
    "    * `rm filename`: removes (deletes) the file"
   ]
  },
  {
   "cell_type": "markdown",
   "metadata": {},
   "source": [
    "# Best Practices"
   ]
  },
  {
   "cell_type": "markdown",
   "metadata": {},
   "source": [
    "In this section we summarize some important take-aways that will help you be successful using Jupyter.\n",
    "\n",
    "1. Shut down your notebooks when you are done.\n",
    "    * Notebooks on the MIT Supercloud take up computing resources. When you leave Jupyter running, you are leaving resources occupied that could be used by someone else.\n",
    "    * To shut down your notebook, click on the \"Shutdown\" button in the top right of every Jupyter page, or click the \"Shutdown\" button on the [Jupyter launching page](https://txe1-portal.mit.edu/jupyter/jupyter_notebook.php).\n",
    "    * Make sure you save your notebooks and any important data before shutting down!\n",
    "    * See [Section 1](#Introduction) for more information.\n",
    "2. Save frequently.\n",
    "    * Save your notebook or text file by clicking File->Save or CMD+S/Control+S.\n",
    "    * Save important data or results as files on the filesystem. Work save or write commands into your code wherever you produce an important result. In Julia you can save in a text file, or save Julia variables using the JLD or MAT packages.\n",
    "    * See [Section 3.2](#Saving-Data-and-Variables) for more information.\n",
    "3. Export your notebook as a script.\n",
    "    * When your are done developing your code and just need to run it without making too many edits, export your notebook as a script.\n",
    "    * Save your notebook before exporting to get any recent changes.\n",
    "    * In Octave/MATLAB, you can type `system('jupyter nbconvert --to script JupyterWarmup_Julia.ipynb')` in a code block to export from within the notebook. Be sure to remove this line from your Octave/MATLAB script before running it.\n",
    "    * See [Section 4](#Exporting-your-Notebook-as-a-Script) for more information.\n",
    "4. Know when to use a batch job.\n",
    "    * Jupyter notebooks are great for development and running interactive analysis, but if you have long running code you may want to submit that code as a batch job instead.\n",
    "    * Batch jobs will run the code you submit and exit independent of user input.\n",
    "    * Export your notebook as a script use as a starting point for a batch job.\n",
    "    * See [this page](https://supercloud.mit.edu/submitting-jobs) for more information on running batch jobs.\n",
    "    * You can use the Jupyter Terminal to submit batch jobs, or submit from the login node through a terminal on your desktop.\n",
    "    * See [Section 1.1](#When-to-use-Jupyter-Notebooks) for more information."
   ]
  },
  {
   "cell_type": "code",
   "execution_count": null,
   "metadata": {},
   "outputs": [],
   "source": []
  }
 ],
 "metadata": {
  "kernelspec": {
   "display_name": "Julia 1.0.0",
   "language": "julia",
   "name": "julia-1.0"
  },
  "language_info": {
   "file_extension": ".jl",
   "mimetype": "application/julia",
   "name": "julia",
   "version": "1.0.0"
  },
  "latex_envs": {
   "LaTeX_envs_menu_present": true,
   "autoclose": false,
   "autocomplete": true,
   "bibliofile": "biblio.bib",
   "cite_by": "apalike",
   "current_citInitial": 1,
   "eqLabelWithNumbers": true,
   "eqNumInitial": 1,
   "hotkeys": {
    "equation": "Ctrl-E",
    "itemize": "Ctrl-I"
   },
   "labels_anchors": false,
   "latex_user_defs": false,
   "report_style_numbering": false,
   "user_envs_cfg": false
  },
  "toc": {
   "base_numbering": 1,
   "nav_menu": {},
   "number_sections": true,
   "sideBar": true,
   "skip_h1_title": false,
   "title_cell": "Table of Contents",
   "title_sidebar": "Contents",
   "toc_cell": false,
   "toc_position": {},
   "toc_section_display": true,
   "toc_window_display": false
  }
 },
 "nbformat": 4,
 "nbformat_minor": 2
}
